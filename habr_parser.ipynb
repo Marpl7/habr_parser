{
 "cells": [
  {
   "cell_type": "code",
   "execution_count": 3,
   "metadata": {},
   "outputs": [],
   "source": [
    "import requests\n",
    "from bs4 import BeautifulSoup"
   ]
  },
  {
   "cell_type": "code",
   "execution_count": 4,
   "metadata": {},
   "outputs": [
    {
     "name": "stdout",
     "output_type": "stream",
     "text": [
      "сегодня в 13:11 - Делаем новую версию API. Быстро и легко - https://habr.com/ru/company/protei/blog/551604/\n",
      "сегодня в 12:57 - Desktop. Не популярный, но все еще живой. Eclipse Rich Client Platform (RCP e4) - https://habr.com/ru/post/551600/\n",
      "сегодня в 12:54 - Почему стек горутины бесконечен? - https://habr.com/ru/company/vivid_money/blog/551598/\n",
      "сегодня в 12:00 - Свод правил по работе с целыми числами в C/C++ - https://habr.com/ru/company/ruvds/blog/551216/\n"
     ]
    },
    {
     "data": {
      "text/plain": [
       "[None, None, None, None]"
      ]
     },
     "execution_count": 4,
     "metadata": {},
     "output_type": "execute_result"
    }
   ],
   "source": [
    "keywords = {'api', 'управление разработкой', 'машинное обучение', 'cloud', 'программирование', 'java'}\n",
    "url = 'https://habr.com/ru/all/'\n",
    "\n",
    "\n",
    "def habr_preview_parser(url, keywords):\n",
    "    \n",
    "    news_list = []\n",
    "    \n",
    "    response = requests.get(url)\n",
    "\n",
    "    soup = BeautifulSoup(response.text, 'html.parser')\n",
    "\n",
    "    posts = soup.find_all('article', class_='post')\n",
    "\n",
    "    for post in posts:\n",
    "\n",
    "        post_id = post.parent.attrs.get('id')\n",
    "        if not post_id:\n",
    "            continue\n",
    "        post_id = int(post_id.split('_')[-1])\n",
    "\n",
    "        date = post.find('span', class_='post__time')\n",
    "        title = post.find('a', class_='post__title_link')      \n",
    "        hubs = post.find_all('a', class_='hub-link')    \n",
    "        text = post.find('div', class_='post__text')\n",
    "\n",
    "        title_words = set(title.text.lower().split(' '))\n",
    "        text_words = set(text.text.lower().split(' '))\n",
    "        hub_words = {hub.text.lower().strip() for hub in hubs}\n",
    "\n",
    "        if (keywords & hub_words):\n",
    "            news = [date.text, title.text, title.attrs.get('href')]\n",
    "            news_list.append(news)\n",
    "        elif (keywords & title_words):\n",
    "            news = [date.text, title.text, title.attrs.get('href')]\n",
    "            news_list.append(news)\n",
    "        elif (keywords & text_words):\n",
    "            news = [date.text, title.text, title.attrs.get('href')]\n",
    "            news_list.append(news)\n",
    "            \n",
    "    return(news_list)\n",
    "\n",
    "\n",
    "\n",
    "\n",
    "[print(f'{news[0]} - {news[1]} - {news[2]}') for news in habr_preview_parser(url, keywords)]\n",
    "\n",
    "    "
   ]
  },
  {
   "cell_type": "code",
   "execution_count": null,
   "metadata": {},
   "outputs": [],
   "source": [
    "def habr_full_parser(url, keywords):\n",
    "    \n",
    "    news_list = []\n",
    "    \n",
    "    response = requests.get(url)\n",
    "\n",
    "    soup = BeautifulSoup(response.text, 'html.parser')\n",
    "\n",
    "    posts = soup.find_all('article', class_='post')\n",
    "\n",
    "    for post in posts:\n",
    "\n",
    "        post_id = post.parent.attrs.get('id')\n",
    "        if not post_id:\n",
    "            continue\n",
    "        post_id = int(post_id.split('_')[-1])\n",
    "\n",
    "        date = post.find('span', class_='post__time')\n",
    "        title = post.find('a', class_='post__title_link')      \n",
    "        hubs = post.find_all('a', class_='hub-link')    \n",
    "#         text = post.find('div', class_='post__text')\n",
    "        href = title.attrs.get('href')\n",
    "        article_full = requests.get(href)\n",
    "        article_soup = BeautifulSoup(article_full.text, 'html.parser')\n",
    "\n",
    "        full_text = article_soup.find('div', id='post-content-body')\n",
    "        print(full_text)\n",
    "\n",
    "        title_words = set(title.text.lower().split(' '))\n",
    "        full_text_words = set(full_text.text.lower().split(' '))\n",
    "        hub_words = {hub.text.lower().strip() for hub in hubs}\n",
    "\n",
    "        if (keywords & hub_words):\n",
    "            news = [date.text, title.text, title.attrs.get('href')]\n",
    "            news_list.append(news)\n",
    "        elif (keywords & title_words):\n",
    "            news = [date.text, title.text, title.attrs.get('href')]\n",
    "            news_list.append(news)\n",
    "        elif (keywords & full_text_words):\n",
    "            news = [date.text, title.text, title.attrs.get('href')]\n",
    "            news_list.append(news)\n",
    "            \n",
    "    return(news_list)\n",
    "\n",
    "[print(f'{news[0]} - {news[1]} - {news[2]}') for news in habr_full_parser(url, keywords)]"
   ]
  }
 ],
 "metadata": {
  "kernelspec": {
   "display_name": "Python 3",
   "language": "python",
   "name": "python3"
  },
  "language_info": {
   "codemirror_mode": {
    "name": "ipython",
    "version": 3
   },
   "file_extension": ".py",
   "mimetype": "text/x-python",
   "name": "python",
   "nbconvert_exporter": "python",
   "pygments_lexer": "ipython3",
   "version": "3.7.6"
  }
 },
 "nbformat": 4,
 "nbformat_minor": 4
}
